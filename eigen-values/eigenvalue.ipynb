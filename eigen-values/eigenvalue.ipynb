{
 "cells": [
  {
   "cell_type": "markdown",
   "source": [
    "<p style=\"text-align:center;\"><img src=\"logo.png\" height='25%' width='25%'></p>\r\n",
    "<p style=\"text-align:center; font-size:25px;\">Applied Linear Algebra 4002</p>\r\n",
    "<h1 align=center style=\"line-height:200%;font-family:vazir;color:#0099cc\">\r\n",
    "<font face=\"vazir\" color=\"#B33030\">بردار ها و مقادیر ویژه\r\n",
    "</font>\r\n",
    "</h1>\r\n"
   ],
   "metadata": {}
  },
  {
   "cell_type": "markdown",
   "source": [
    "<!-- <p dir=rtl style=\"direction: rtl;text-align: right;line-height:200%;font-family:vazir;font-size:medium\"> -->\r\n",
    "<p style=\"line-height:200%; font-size:medium\">\r\n",
    "<font face=\"vazir\" size=3>\r\n",
    "    Load numpy \r\n",
    "\r\n",
    "</font>\r\n",
    "</p>\r\n"
   ],
   "metadata": {
    "id": "aK0xZF5y27Hy"
   }
  },
  {
   "cell_type": "code",
   "execution_count": 2,
   "source": [
    "import numpy as np\r\n",
    "import matplotlib.pyplot as plt\r\n",
    "from mpl_toolkits import mplot3d\r\n"
   ],
   "outputs": [],
   "metadata": {
    "colab": {
     "base_uri": "https://localhost:8080/",
     "height": 223
    },
    "executionInfo": {
     "elapsed": 371,
     "status": "ok",
     "timestamp": 1627552541479,
     "user": {
      "displayName": "Parto Shahroodi",
      "photoUrl": "https://lh3.googleusercontent.com/a-/AOh14GgVRnuIKtxzeAYtLGbbb7NnFc-HXqxuTOJ6OMw7uw=s64",
      "userId": "08853559073941204272"
     },
     "user_tz": -270
    },
    "id": "JUEwzKpr2RUk",
    "outputId": "684b5cff-21a6-46d3-8084-e090addb1731"
   }
  },
  {
   "cell_type": "markdown",
   "source": [
    "<h1 align=center style=\"line-height:200%;font-family:vazir;color:#0099cc\">\r\n",
    "\r\n",
    "$Av = \\lambda v$\r\n",
    "\r\n",
    "</h1>\r\n"
   ],
   "metadata": {}
  },
  {
   "cell_type": "markdown",
   "source": [
    "<p dir=rtl style=\"direction: rtl;text-align: right;line-height:200%;font-family:vazir;font-size:medium\">\r\n",
    "<font face=\"vazir\" size=3>\r\n",
    "مقدار و بردار ویژه برای ماتریس <code>A</code> را بدست آورید\r\n",
    "</font>\r\n",
    "</p>"
   ],
   "metadata": {}
  },
  {
   "cell_type": "code",
   "execution_count": 3,
   "source": [
    "A = np.array([[-1,4],[2,-2]]);\r\n",
    "A"
   ],
   "outputs": [
    {
     "output_type": "execute_result",
     "data": {
      "text/plain": [
       "array([[-1,  4],\n",
       "       [ 2, -2]])"
      ]
     },
     "metadata": {},
     "execution_count": 3
    }
   ],
   "metadata": {}
  },
  {
   "cell_type": "code",
   "execution_count": 4,
   "source": [
    "# lamduh , V = None # TO DO"
   ],
   "outputs": [],
   "metadata": {}
  },
  {
   "cell_type": "markdown",
   "source": [
    "<p dir=rtl style=\"direction: rtl;text-align: right;line-height:200%;font-family:vazir;font-size:medium\">\r\n",
    "<font face=\"vazir\" size=3>\r\n",
    "به ازای هر ستون ماتریس یک بردار ویژه داریم\r\n",
    "</font>\r\n",
    "</p>"
   ],
   "metadata": {}
  },
  {
   "cell_type": "code",
   "execution_count": null,
   "source": [
    "V"
   ],
   "outputs": [],
   "metadata": {}
  },
  {
   "cell_type": "code",
   "execution_count": null,
   "source": [
    "lambduh"
   ],
   "outputs": [],
   "metadata": {}
  },
  {
   "cell_type": "markdown",
   "source": [
    "<p dir=rtl style=\"direction: rtl;text-align: right;line-height:200%;font-family:vazir;font-size:medium\">\r\n",
    "<font face=\"vazir\" size=3>\r\n",
    "نشان دهید که \r\n",
    "<code>\r\n",
    " $Av = \\lambda v$\r\n",
    "  </code>\r\n",
    "به ازای اولین بردار ویژه درست است\r\n",
    "</font>\r\n",
    "</p>"
   ],
   "metadata": {}
  },
  {
   "cell_type": "code",
   "execution_count": null,
   "source": [
    "v = None\r\n",
    "v"
   ],
   "outputs": [],
   "metadata": {}
  },
  {
   "cell_type": "code",
   "execution_count": null,
   "source": [
    "lambduh1 = None\r\n",
    "lambduh1"
   ],
   "outputs": [],
   "metadata": {}
  },
  {
   "cell_type": "code",
   "execution_count": null,
   "source": [
    "Av = None # b formol tavajo konid\r\n",
    "Av"
   ],
   "outputs": [],
   "metadata": {}
  },
  {
   "cell_type": "code",
   "execution_count": null,
   "source": [
    "lambduh1 * v"
   ],
   "outputs": [],
   "metadata": {}
  },
  {
   "cell_type": "code",
   "execution_count": null,
   "source": [
    "def plot_vectors(vectors, colors):\r\n",
    "    \r\n",
    "    plt.figure()\r\n",
    "    plt.axvline(x=0, color='lightgray')\r\n",
    "    plt.axhline(y=0, color='lightgray')\r\n",
    "\r\n",
    "    for i in range(len(vectors)):\r\n",
    "        x = np.concatenate([[0,0],vectors[i]])\r\n",
    "        plt.quiver([x[0]], [x[1]], [x[2]], [x[3]],\r\n",
    "                   angles='xy', scale_units='xy', scale=1, color=colors[i],)"
   ],
   "outputs": [],
   "metadata": {}
  },
  {
   "cell_type": "markdown",
   "source": [
    "<p dir=rtl style=\"direction: rtl;text-align: right;line-height:200%;font-family:vazir;font-size:medium\">\r\n",
    "<font face=\"vazir\" size=3>\r\n",
    "با استفاده از متد \r\n",
    "<code>\r\n",
    "plot_vectors\r\n",
    "  </code>\r\n",
    "بردار ویژه و ضرب ماتریس در آن را plot کنید\r\n",
    "</font>\r\n",
    "</p>"
   ],
   "metadata": {}
  },
  {
   "cell_type": "markdown",
   "source": [
    "exp: <code>plot_vectors([x,y],['red','lightred'])</code>"
   ],
   "metadata": {}
  },
  {
   "cell_type": "code",
   "execution_count": null,
   "source": [
    "plot_vectors([Av,v],['green','lightgreen'])\r\n",
    "plt.xlim(-1,2)\r\n",
    "_= plt.ylim(-1,2)"
   ],
   "outputs": [],
   "metadata": {}
  },
  {
   "cell_type": "markdown",
   "source": [
    "<p dir=rtl style=\"direction: rtl;text-align: right;line-height:200%;font-family:vazir;font-size:medium\">\r\n",
    "<font face=\"vazir\" size=3>\r\n",
    "تصویر بالا چه مفهومی را تداعی می کند؟\r\n",
    "</font>\r\n",
    "</p>"
   ],
   "metadata": {}
  },
  {
   "cell_type": "markdown",
   "source": [
    "<p dir=rtl style=\"direction: rtl;text-align: right;line-height:200%;font-family:vazir;font-size:medium\">\r\n",
    "<font face=\"vazir\" size=3>\r\n",
    "همین پروسه را برای دومین بردار وِیژه تکرار کنید.\r\n",
    "</font>\r\n",
    "</p>"
   ],
   "metadata": {}
  },
  {
   "cell_type": "code",
   "execution_count": null,
   "source": [
    "v2 = None\r\n",
    "v2"
   ],
   "outputs": [],
   "metadata": {}
  },
  {
   "cell_type": "code",
   "execution_count": null,
   "source": [
    "# to do\r\n",
    "Av2 = None\r\n",
    "\r\n",
    "Av2"
   ],
   "outputs": [],
   "metadata": {}
  },
  {
   "cell_type": "code",
   "execution_count": null,
   "source": [
    "lambduh2 = None\r\n",
    "lambduh2"
   ],
   "outputs": [],
   "metadata": {}
  },
  {
   "cell_type": "code",
   "execution_count": null,
   "source": [
    "\r\n",
    "lambduh2 * v2"
   ],
   "outputs": [],
   "metadata": {}
  },
  {
   "cell_type": "markdown",
   "source": [
    "<p dir=rtl style=\"direction: rtl;text-align: right;line-height:200%;font-family:vazir;font-size:medium\">\r\n",
    "<font face=\"vazir\" size=3>\r\n",
    "بردار های ویژه 1 و 2 را باهم پلات کنید.\r\n",
    "</font>\r\n",
    "</p>"
   ],
   "metadata": {}
  },
  {
   "cell_type": "code",
   "execution_count": null,
   "source": [
    "plot_vectors([Av,v,Av2,v2],['green','lightgreen','blue','lightblue'])\r\n",
    "plt.xlim(-1,4)\r\n",
    "_= plt.ylim(-3,2)\r\n"
   ],
   "outputs": [],
   "metadata": {}
  },
  {
   "cell_type": "markdown",
   "source": [
    "<p dir=rtl style=\"direction: rtl;text-align: right;line-height:200%;font-family:vazir;font-size:medium\">\r\n",
    "<font face=\"vazir\" size=3>\r\n",
    "تغییر بردار ویژه دوم پس از ترنسفرم آن توسط ماتریس a را توجیح کنید\r\n",
    "</font>\r\n",
    "</p>"
   ],
   "metadata": {}
  },
  {
   "cell_type": "markdown",
   "source": [
    "\r\n",
    "<h1 align=center style=\"line-height:200%;font-family:vazir;color:#0099cc\">\r\n",
    "<font face=\"vazir\" color=\"#B33030\"></font>ابعاد بیشتر از 2 \r\n",
    "</font>\r\n",
    "</h1>\r\n"
   ],
   "metadata": {}
  },
  {
   "cell_type": "markdown",
   "source": [
    "<p dir=rtl style=\"direction: rtl;text-align: right;line-height:200%;font-family:vazir;font-size:medium\">\r\n",
    "<font face=\"vazir\" size=3>\r\n",
    "ماتریس زیر یک ماتریس سه بعدی است مقادیر ویژه و بردار های ویژه آن را مشخص کنید.\r\n",
    "</font>\r\n",
    "</p>"
   ],
   "metadata": {}
  },
  {
   "cell_type": "code",
   "execution_count": null,
   "source": [
    "X = np.array([[25, 2, 9], [5, 26, -5], [3, 7, -1]])\r\n",
    "X"
   ],
   "outputs": [],
   "metadata": {}
  },
  {
   "cell_type": "code",
   "execution_count": null,
   "source": [
    "# lambdas_X, V_X = None # todo\r\n",
    "lambdas_X, V_X = np.linalg.eig(X) "
   ],
   "outputs": [],
   "metadata": {}
  },
  {
   "cell_type": "markdown",
   "source": [
    "<p dir=rtl style=\"direction: rtl;text-align: right;line-height:200%;font-family:vazir;font-size:medium\">\r\n",
    "<font face=\"vazir\" size=3>\r\n",
    "به ازای هر ستون ماتریس یک بردار ویژه داریم\r\n",
    "</font>\r\n",
    "</p>"
   ],
   "metadata": {}
  },
  {
   "cell_type": "code",
   "execution_count": null,
   "source": [
    "V_X "
   ],
   "outputs": [],
   "metadata": {}
  },
  {
   "cell_type": "code",
   "execution_count": null,
   "source": [
    "lambdas_X"
   ],
   "outputs": [],
   "metadata": {}
  },
  {
   "cell_type": "markdown",
   "source": [
    "<p dir=rtl style=\"direction: rtl;text-align: right;line-height:200%;font-family:vazir;font-size:medium\">\r\n",
    "<font face=\"vazir\" size=3>\r\n",
    "نشان دهید که \r\n",
    "<code>\r\n",
    " $Av = \\lambda v$\r\n",
    "  </code>\r\n",
    "به ازای اولین بردار ویژه درست است\r\n",
    "</font>\r\n",
    "</p>"
   ],
   "metadata": {}
  },
  {
   "cell_type": "code",
   "execution_count": null,
   "source": [
    "v_X1 = None\r\n",
    "v_X1"
   ],
   "outputs": [],
   "metadata": {}
  },
  {
   "cell_type": "code",
   "execution_count": null,
   "source": [
    "lambda_X1 = None\r\n",
    "lambda_X1"
   ],
   "outputs": [],
   "metadata": {}
  },
  {
   "cell_type": "code",
   "execution_count": null,
   "source": [
    "temp =None\r\n",
    "temp"
   ],
   "outputs": [],
   "metadata": {}
  },
  {
   "cell_type": "code",
   "execution_count": null,
   "source": [
    "lambda_X1 * v_X1"
   ],
   "outputs": [],
   "metadata": {}
  },
  {
   "cell_type": "markdown",
   "source": [
    "<p dir=rtl style=\"direction: rtl;text-align: right;line-height:200%;font-family:vazir;font-size:medium\">\r\n",
    "<font face=\"vazir\" size=3>\r\n",
    "همانند گام های قبل بردار هارا پلات کنید\r\n",
    "</font>\r\n",
    "</p>"
   ],
   "metadata": {}
  },
  {
   "cell_type": "code",
   "execution_count": null,
   "source": [
    "fig = plt.figure()\r\n",
    "ax = fig.add_subplot(projection='3d')\r\n",
    "# ax.plot(params here)"
   ],
   "outputs": [],
   "metadata": {}
  },
  {
   "cell_type": "markdown",
   "source": [
    "\r\n",
    "<h1 align=center style=\"line-height:200%;font-family:vazir;color:#0099cc\">\r\n",
    "<font face=\"vazir\" color=\"#B33030\"></font>Eigen Decomposition \r\n",
    "</font>\r\n",
    "</h1>\r\n"
   ],
   "metadata": {}
  },
  {
   "cell_type": "markdown",
   "source": [
    "\r\n",
    "\r\n",
    "<h1 align=center style=\"line-height:200%;font-family:vazir;color:#0099cc\">\r\n",
    "\r\n",
    "$A = V \\Lambda V^{-1}$\r\n",
    "\r\n",
    "</h1>"
   ],
   "metadata": {}
  },
  {
   "cell_type": "markdown",
   "source": [
    "<p dir=rtl style=\"direction: rtl;text-align: right;line-height:200%;font-family:vazir;font-size:medium\">\r\n",
    "<font face=\"vazir\" size=3>\r\n",
    "برای ماتریس زیر eigen decomposition را محاسبه کرده سپس نشان دهید که ضرب عبارات برابر با ماتریس است \r\n",
    "</font>\r\n",
    "</p>"
   ],
   "metadata": {}
  },
  {
   "cell_type": "code",
   "execution_count": null,
   "source": [
    "A = np.array([[4, 2], [-5, -3]]) \r\n",
    "A"
   ],
   "outputs": [],
   "metadata": {}
  },
  {
   "cell_type": "code",
   "execution_count": null,
   "source": [],
   "outputs": [],
   "metadata": {}
  },
  {
   "cell_type": "markdown",
   "source": [
    "<h1 align=center style=\"line-height:200%;font-family:vazir;color:#0099cc\">\r\n",
    "<font face=\"vazir\" color=\"#B33030\"></font>Visualization of Linear Transformations using Eigen Values and Eigen Vectors\r\n",
    "</font>\r\n",
    "</h1>\r\n"
   ],
   "metadata": {}
  },
  {
   "cell_type": "code",
   "execution_count": 5,
   "source": [
    "t = np.linspace(0, 2*np.pi, 100)\r\n",
    "x = np.cos(t)\r\n",
    "y = np.sin(t)\r\n",
    "\r\n",
    "plt.figure()\r\n",
    "plt.plot(x, y)\r\n",
    "plt.xlim(-1.5, 1.5)\r\n",
    "plt.ylim(-1.5, 1.5)\r\n",
    "plt.show()"
   ],
   "outputs": [
    {
     "output_type": "display_data",
     "data": {
      "image/png": "[encoded data removed]",
      "text/plain": [
       "<Figure size 432x288 with 1 Axes>"
      ]
     },
     "metadata": {
      "needs_background": "light"
     }
    }
   ],
   "metadata": {}
  },
  {
   "cell_type": "code",
   "execution_count": 9,
   "source": [
    "def plotVectors(vecs, cols, alpha=1):\r\n",
    "    \r\n",
    "    plt.figure()\r\n",
    "    plt.axvline(x=0, color='#A9A9A9', zorder=0)\r\n",
    "    plt.axhline(y=0, color='#A9A9A9', zorder=0)\r\n",
    "\r\n",
    "    for i in range(len(vecs)):\r\n",
    "        x = np.concatenate([[0,0],vecs[i]])\r\n",
    "        plt.quiver([x[0]],\r\n",
    "                   [x[1]],\r\n",
    "                   [x[2]],\r\n",
    "                   [x[3]],\r\n",
    "                   angles='xy', scale_units='xy', scale=1, color=cols[i],\r\n",
    "                   alpha=alpha)"
   ],
   "outputs": [],
   "metadata": {}
  },
  {
   "cell_type": "code",
   "execution_count": 10,
   "source": [
    "def linearTransformation(transformMatrix):\r\n",
    "    orange = '#FF9A13'\r\n",
    "    blue = '#1190FF'\r\n",
    "    \r\n",
    "    t = np.linspace(0, 2*np.pi, 100)\r\n",
    "    x = np.cos(t)\r\n",
    "    y = np.sin(t)\r\n",
    "\r\n",
    "    # Calculate eigenvectors and eigenvalues hint: be formul tavajoh karde az np.lin.alg.eig estefade konid\r\n",
    "    eigVecs = None\r\n",
    "    eigVals = None\r\n",
    "\r\n",
    "  \r\n",
    "    newX = np.zeros(len(x))\r\n",
    "    newY = np.zeros(len(x))\r\n",
    "    for i in range(len(x)):\r\n",
    "        unitVector_i = np.array([x[i], y[i]])\r\n",
    "      \r\n",
    "        newXY = transformMatrix.dot(unitVector_i)\r\n",
    "        newX[i] = newXY[0]\r\n",
    "        newY[i] = newXY[1]\r\n",
    "\r\n",
    "    plotVectors([eigVecs[:,0], eigVecs[:,1]],\r\n",
    "                cols=[blue, blue])\r\n",
    "    plt.plot(x, y)\r\n",
    "\r\n",
    "    plotVectors([eigVals[0,0]*eigVecs[:,0], eigVals[1,1]*eigVecs[:,1]],\r\n",
    "                cols=[orange, orange])\r\n",
    "    plt.plot(newX, newY)\r\n",
    "    plt.xlim(-5, 5)\r\n",
    "    plt.ylim(-5, 5)\r\n",
    "    plt.show()"
   ],
   "outputs": [],
   "metadata": {}
  },
  {
   "cell_type": "markdown",
   "source": [
    "<p dir=rtl style=\"direction: rtl;text-align: right;line-height:200%;font-family:vazir;font-size:medium\">\r\n",
    "<font face=\"vazir\" size=3>\r\n",
    "پلات های زیر را توجیح کنید \r\n",
    "</font>\r\n",
    "</p>"
   ],
   "metadata": {}
  },
  {
   "cell_type": "code",
   "execution_count": 11,
   "source": [
    "A = np.array([[1,-1], [-1, 4]])\r\n",
    "linearTransformation(A)"
   ],
   "outputs": [
    {
     "output_type": "display_data",
     "data": {
      "image/png": "[encoded data removed]",
      "text/plain": [
       "<Figure size 432x288 with 1 Axes>"
      ]
     },
     "metadata": {
      "needs_background": "light"
     }
    },
    {
     "output_type": "display_data",
     "data": {
      "image/png": "[encoded data removed]",
      "text/plain": [
       "<Figure size 432x288 with 1 Axes>"
      ]
     },
     "metadata": {
      "needs_background": "light"
     }
    }
   ],
   "metadata": {}
  },
  {
   "cell_type": "code",
   "execution_count": 12,
   "source": [
    "A = np.array([[1,1], [-1, 4]])\r\n",
    "linearTransformation(A)"
   ],
   "outputs": [
    {
     "output_type": "display_data",
     "data": {
      "image/png": "[encoded data removed]",
      "text/plain": [
       "<Figure size 432x288 with 1 Axes>"
      ]
     },
     "metadata": {
      "needs_background": "light"
     }
    },
    {
     "output_type": "display_data",
     "data": {
      "image/png": "[encoded data removed]",
      "text/plain": [
       "<Figure size 432x288 with 1 Axes>"
      ]
     },
     "metadata": {
      "needs_background": "light"
     }
    }
   ],
   "metadata": {}
  }
 ],
 "metadata": {
  "colab": {
   "authorship_tag": "ABX9TyN5diGbKcT8eK/BCk7EMqAj",
   "name": "گام اول.ipynb",
   "provenance": []
  },
  "interpreter": {
   "hash": "50559c752124b928cacd47eecc39e350aea3fa769b38052f306c90289dfa78ec"
  },
  "kernelspec": {
   "name": "python3",
   "display_name": "Python 3.9.7 64-bit ('base': conda)"
  },
  "language_info": {
   "codemirror_mode": {
    "name": "ipython",
    "version": 3
   },
   "file_extension": ".py",
   "mimetype": "text/x-python",
   "name": "python",
   "nbconvert_exporter": "python",
   "pygments_lexer": "ipython3",
   "version": "3.9.7"
  }
 },
 "nbformat": 4,
 "nbformat_minor": 4
}